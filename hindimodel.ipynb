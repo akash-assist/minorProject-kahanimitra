{
  "nbformat": 4,
  "nbformat_minor": 0,
  "metadata": {
    "colab": {
      "provenance": [],
      "gpuType": "T4",
      "authorship_tag": "ABX9TyPUhO2ZWjV0q0PAa670LjRk",
      "include_colab_link": true
    },
    "kernelspec": {
      "name": "python3",
      "display_name": "Python 3"
    },
    "language_info": {
      "name": "python"
    },
    "accelerator": "GPU"
  },
  "cells": [
    {
      "cell_type": "markdown",
      "metadata": {
        "id": "view-in-github",
        "colab_type": "text"
      },
      "source": [
        "<a href=\"https://colab.research.google.com/github/akash-assist/minorProject/blob/main/hindimodel.ipynb\" target=\"_parent\"><img src=\"https://colab.research.google.com/assets/colab-badge.svg\" alt=\"Open In Colab\"/></a>"
      ]
    },
    {
      "cell_type": "code",
      "execution_count": 9,
      "metadata": {
        "colab": {
          "base_uri": "https://localhost:8080/"
        },
        "id": "f7smvae6GBH3",
        "outputId": "cdc52a23-b422-434a-b4b0-63fa2b035f1a"
      },
      "outputs": [
        {
          "output_type": "stream",
          "name": "stdout",
          "text": [
            "Epoch 1: Loss - 0.6099674105644226\n",
            "Epoch 2: Loss - 0.5040415525436401\n",
            "Epoch 3: Loss - 0.45335763692855835\n"
          ]
        }
      ],
      "source": [
        "import torch\n",
        "from transformers import GPT2Tokenizer, GPT2LMHeadModel\n",
        "from torch.utils.data import Dataset, DataLoader\n",
        "from torch.nn.utils.rnn import pad_sequence\n",
        "\n",
        "class HindiStoryDataset(Dataset):\n",
        "    def __init__(self, data_file, tokenizer, max_length=512):\n",
        "        self.tokenizer = tokenizer\n",
        "        self.max_length = max_length\n",
        "        with open(data_file, 'r', encoding='utf-8') as file:\n",
        "            self.data = file.readlines()\n",
        "\n",
        "    def __len__(self):\n",
        "        return len(self.data)\n",
        "\n",
        "    def __getitem__(self, idx):\n",
        "        text = self.data[idx]\n",
        "        input_ids = self.tokenizer.encode(text, max_length=self.max_length, truncation=True)\n",
        "        return torch.tensor(input_ids, dtype=torch.long)\n",
        "\n",
        "tokenizer = GPT2Tokenizer.from_pretrained(\"gpt2\")\n",
        "model = GPT2LMHeadModel.from_pretrained(\"gpt2\")\n",
        "\n",
        "dataset = HindiStoryDataset(\"stories-akash.txt\", tokenizer)\n",
        "\n",
        "def collate_fn(batch):\n",
        "    return pad_sequence(batch, batch_first=True)\n",
        "\n",
        "dataloader = DataLoader(dataset, batch_size=4, shuffle=True, collate_fn=collate_fn)\n",
        "\n",
        "device = torch.device(\"cuda\" if torch.cuda.is_available() else \"cpu\")\n",
        "model.to(device)\n",
        "\n",
        "num_epochs = 3\n",
        "optimizer = torch.optim.AdamW(model.parameters(), lr=5e-5)\n",
        "\n",
        "for epoch in range(num_epochs):\n",
        "    model.train()\n",
        "    for batch in dataloader:\n",
        "        batch = batch.to(device)\n",
        "        outputs = model(input_ids=batch, labels=batch)\n",
        "        loss = outputs.loss\n",
        "        loss.backward()\n",
        "        optimizer.step()\n",
        "        optimizer.zero_grad()\n",
        "\n",
        "    print(f\"Epoch {epoch + 1}: Loss - {loss.item()}\")\n",
        "\n",
        "model.save_pretrained(\"hindi_story_model\")"
      ]
    },
    {
      "cell_type": "code",
      "source": [
        "import torch\n",
        "from transformers import GPT2Tokenizer, GPT2LMHeadModel\n",
        "\n",
        "device = torch.device(\"cuda\" if torch.cuda.is_available() else \"cpu\")\n",
        "\n",
        "model_path = \"hindi_story_model\"\n",
        "tokenizer = GPT2Tokenizer.from_pretrained(\"gpt2\")\n",
        "model = GPT2LMHeadModel.from_pretrained(model_path)\n",
        "model.eval()\n",
        "model.to(device)\n",
        "\n",
        "\n",
        "prompt = \"एक बार की बात हैं\"\n",
        "\n",
        "generated = torch.tensor(tokenizer.encode(prompt)).unsqueeze(0).to(device)\n",
        "sample_outputs = model.generate(\n",
        "    generated,\n",
        "    do_sample=True,\n",
        "    max_length=200,\n",
        "    top_k=50,\n",
        "    temperature=0.7\n",
        ")\n",
        "\n",
        "generated_text = tokenizer.decode(sample_outputs[0], skip_special_tokens=True)\n",
        "\n",
        "print(generated_text)\n"
      ],
      "metadata": {
        "colab": {
          "base_uri": "https://localhost:8080/"
        },
        "id": "bdEJDP3XKiut",
        "outputId": "baa1063a-3fe4-46d6-f754-1973dc54e7d9"
      },
      "execution_count": 10,
      "outputs": [
        {
          "output_type": "stream",
          "name": "stderr",
          "text": [
            "The attention mask and the pad token id were not set. As a consequence, you may observe unexpected behavior. Please pass your input's `attention_mask` to obtain reliable results.\n",
            "Setting `pad_token_id` to `eos_token_id`:50256 for open-end generation.\n"
          ]
        },
        {
          "output_type": "stream",
          "name": "stdout",
          "text": [
            "एक बार की बात हैं, अपने जैं, जैं, जैं, जिकर विश्वास जसने की पने किया।्षास जैं के नियात्षास जीव कहानी को से उपने कहानी को समृद्धि कहान\n"
          ]
        }
      ]
    }
  ]
}