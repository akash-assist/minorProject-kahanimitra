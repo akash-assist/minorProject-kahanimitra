{
  "nbformat": 4,
  "nbformat_minor": 0,
  "metadata": {
    "colab": {
      "provenance": [],
      "gpuType": "T4",
      "toc_visible": true,
      "authorship_tag": "ABX9TyOcbt5gy5TyFiLstrapZ0av",
      "include_colab_link": true
    },
    "kernelspec": {
      "name": "python3",
      "display_name": "Python 3"
    },
    "language_info": {
      "name": "python"
    },
    "accelerator": "GPU"
  },
  "cells": [
    {
      "cell_type": "markdown",
      "metadata": {
        "id": "view-in-github",
        "colab_type": "text"
      },
      "source": [
        "<a href=\"https://colab.research.google.com/github/akash-assist/minorProject/blob/main/hindimodel.ipynb\" target=\"_parent\"><img src=\"https://colab.research.google.com/assets/colab-badge.svg\" alt=\"Open In Colab\"/></a>"
      ]
    },
    {
      "cell_type": "code",
      "execution_count": null,
      "metadata": {
        "colab": {
          "base_uri": "https://localhost:8080/"
        },
        "id": "f7smvae6GBH3",
        "outputId": "b27e954a-2f8e-4e49-8099-5dd1ac89f8da"
      },
      "outputs": [
        {
          "output_type": "stream",
          "name": "stdout",
          "text": [
            "Epoch 1: Loss - 0.8754977583885193\n",
            "Epoch 2: Loss - 0.5614485740661621\n",
            "Epoch 3: Loss - 0.6339242458343506\n"
          ]
        }
      ],
      "source": [
        "import torch\n",
        "from transformers import GPT2Tokenizer, GPT2LMHeadModel\n",
        "from torch.utils.data import Dataset, DataLoader\n",
        "from torch.nn.utils.rnn import pad_sequence\n",
        "\n",
        "# Define your dataset class\n",
        "class HindiStoryDataset(Dataset):\n",
        "    def __init__(self, data_file, tokenizer, max_length=512):\n",
        "        self.tokenizer = tokenizer\n",
        "        self.max_length = max_length\n",
        "        # Load and preprocess your dataset\n",
        "        with open(data_file, 'r', encoding='utf-8') as file:\n",
        "            self.data = file.readlines()\n",
        "\n",
        "    def __len__(self):\n",
        "        return len(self.data)\n",
        "\n",
        "    def __getitem__(self, idx):\n",
        "        # Tokenize and encode the text\n",
        "        text = self.data[idx]\n",
        "        input_ids = self.tokenizer.encode(text, max_length=self.max_length, truncation=True)\n",
        "        return torch.tensor(input_ids, dtype=torch.long)\n",
        "\n",
        "# Initialize tokenizer and model\n",
        "tokenizer = GPT2Tokenizer.from_pretrained(\"gpt2\")\n",
        "model = GPT2LMHeadModel.from_pretrained(\"gpt2\")\n",
        "\n",
        "# Load your dataset\n",
        "dataset = HindiStoryDataset(\"stories-akash.txt\", tokenizer)\n",
        "\n",
        "# DataLoader for batching and shuffling\n",
        "def collate_fn(batch):\n",
        "    return pad_sequence(batch, batch_first=True)\n",
        "\n",
        "dataloader = DataLoader(dataset, batch_size=4, shuffle=True, collate_fn=collate_fn)\n",
        "\n",
        "# Set device\n",
        "device = torch.device(\"cuda\" if torch.cuda.is_available() else \"cpu\")\n",
        "model.to(device)\n",
        "\n",
        "# Training parameters\n",
        "num_epochs = 3\n",
        "optimizer = torch.optim.AdamW(model.parameters(), lr=5e-5)\n",
        "\n",
        "# Training loop\n",
        "for epoch in range(num_epochs):\n",
        "    model.train()\n",
        "    for batch in dataloader:\n",
        "        batch = batch.to(device)\n",
        "        outputs = model(input_ids=batch, labels=batch)\n",
        "        loss = outputs.loss\n",
        "        loss.backward()\n",
        "        optimizer.step()\n",
        "        optimizer.zero_grad()\n",
        "\n",
        "    print(f\"Epoch {epoch + 1}: Loss - {loss.item()}\")\n",
        "\n",
        "# Save the trained model\n",
        "model.save_pretrained(\"hindi_story_model\")"
      ]
    },
    {
      "cell_type": "code",
      "source": [
        "import torch\n",
        "from transformers import GPT2Tokenizer, GPT2LMHeadModel\n",
        "\n",
        "# Set the device\n",
        "device = torch.device(\"cuda\" if torch.cuda.is_available() else \"cpu\")\n",
        "\n",
        "# Set up your model and tokenizer\n",
        "model_path = \"hindi_story_model\"  # Replace this with the path to your trained model\n",
        "tokenizer = GPT2Tokenizer.from_pretrained(\"gpt2\")\n",
        "model = GPT2LMHeadModel.from_pretrained(model_path)\n",
        "model.eval()\n",
        "model.to(device)  # Move the model to the same device as the input\n",
        "\n",
        "# Prompt generation\n",
        "prompt = \"मैं तुम्हारा एक सच्चा प्रेमी हूँ\"\n",
        "\n",
        "# Generate text\n",
        "generated = torch.tensor(tokenizer.encode(prompt)).unsqueeze(0).to(device)  # Move the input to the same device\n",
        "sample_outputs = model.generate(\n",
        "    generated,\n",
        "    do_sample=True,\n",
        "    max_length=200,\n",
        "    top_k=50,\n",
        "    temperature=0.7\n",
        ")\n",
        "\n",
        "# Decode the generated output\n",
        "generated_text = tokenizer.decode(sample_outputs[0], skip_special_tokens=True)\n",
        "\n",
        "print(generated_text)\n"
      ],
      "metadata": {
        "colab": {
          "base_uri": "https://localhost:8080/"
        },
        "id": "bdEJDP3XKiut",
        "outputId": "602edc18-fd71-4473-d2da-de14f4030f97"
      },
      "execution_count": null,
      "outputs": [
        {
          "output_type": "stream",
          "name": "stderr",
          "text": [
            "The attention mask and the pad token id were not set. As a consequence, you may observe unexpected behavior. Please pass your input's `attention_mask` to obtain reliable results.\n",
            "Setting `pad_token_id` to `eos_token_id`:50256 for open-end generation.\n"
          ]
        },
        {
          "output_type": "stream",
          "name": "stdout",
          "text": [
            "मैं तुम्हारा एक सच्चा प्रेमी हूँ अपने को सके कहाने कु परेमे करने परिश्रपण और से परिश्रपण और सपने के सपने किया कपने को बुच्चाल गो\n"
          ]
        }
      ]
    }
  ]
}